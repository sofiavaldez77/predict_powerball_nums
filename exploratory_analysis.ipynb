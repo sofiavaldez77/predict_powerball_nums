{
 "cells": [
  {
   "cell_type": "markdown",
   "metadata": {},
   "source": [
    "For fun, let's do some exploratory analysis :)\n",
    "Following \"Hands-On Machine Learning\" book"
   ]
  },
  {
   "cell_type": "markdown",
   "metadata": {},
   "source": []
  }
 ],
 "metadata": {
  "kernelspec": {
   "display_name": "Python 3.10.6 ('ML_projects')",
   "language": "python",
   "name": "python3"
  },
  "language_info": {
   "codemirror_mode": {
    "name": "ipython",
    "version": 3
   },
   "file_extension": ".py",
   "mimetype": "text/x-python",
   "name": "python",
   "nbconvert_exporter": "python",
   "pygments_lexer": "ipython3",
   "version": "3.10.6"
  },
  "orig_nbformat": 4,
  "vscode": {
   "interpreter": {
    "hash": "91022c3e54342ca0547cea143bda7b85a31113b8b4b29b6dfbde75968f0c2b32"
   }
  }
 },
 "nbformat": 4,
 "nbformat_minor": 2
}
